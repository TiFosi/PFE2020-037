{
 "cells": [
  {
   "cell_type": "code",
   "execution_count": 1,
   "metadata": {},
   "outputs": [],
   "source": [
    "import os\n",
    "import sys\n",
    "import json # print(json.dumps(text, indent=2))\n",
    "from SPARQLWrapper import SPARQLWrapper, JSON\n",
    "import pandas as pd\n",
    "\n",
    "sparql = SPARQLWrapper(\"http://sparql.archives-ouvertes.fr/sparql\")\n",
    "sparql.setReturnFormat(JSON)\n",
    "sparql.setTimeout(10000000)\n",
    "\n",
    "pd.set_option('display.max_colwidth', None)\n",
    "\n",
    "def execute(query):\n",
    "    queryString = \"\"\"\n",
    "        prefix hal:\t<http://data.archives-ouvertes.fr/schema/>\n",
    "        prefix vcard2006: <http://www.w3.org/2006/vcard/ns#>\n",
    "        prefix ns8:\t<http://fr.dbpedia.org/resource/>\n",
    "        prefix org: <http://www.w3.org/ns/org#>\n",
    "        prefix skos: <http://www.w3.org/2004/02/skos/core#>\n",
    "        prefix dcterms: <http://purl.org/dc/terms/>\n",
    "        prefix fabio: <http://purl.org/spar/fabio/>\n",
    "        prefix ore:\t<http://www.openarchives.org/ore/terms/>\n",
    "        %s\n",
    "        \"\"\" % query\n",
    "    sparql.setQuery(queryString)\n",
    "    response = sparql.query().convert()\n",
    "    df = pd.json_normalize(response['results']['bindings'])\n",
    "    filter_col = [col for col in df if not col.endswith(('.type', '.datatype'))]\n",
    "    return df[filter_col]\n",
    "\n",
    "# 42970 authors with aggregate: 42808 with name, 162 without name\n",
    "# 1517974 authors without aggregate: 1346390 with name, 171584 without name"
   ]
  },
  {
   "cell_type": "markdown",
   "metadata": {},
   "source": [
    "### La requête permettant de récupérer la liste des auteurs qui ont changé de pays plus qu'une fois"
   ]
  },
  {
   "cell_type": "code",
   "execution_count": 2,
   "metadata": {},
   "outputs": [],
   "source": [
    "query_authors = \"\"\"\n",
    "    select distinct ?author count(distinct ?country)\n",
    "    where {{\n",
    "        ?doc dcterms:creator ?n.\n",
    "        ?n hal:person ?author; hal:structure ?lab.\n",
    "        ?lab vcard2006:country-name ?country.\n",
    "    }}\n",
    "    group by ?author\n",
    "    having (count(distinct ?country) > 2)\n",
    "    limit {0} offset {1}\n",
    "\"\"\"\n",
    "\n",
    "authors = execute(query_authors.format(100, 0))\n",
    "# authors.head(10)"
   ]
  },
  {
   "cell_type": "markdown",
   "metadata": {},
   "source": [
    "### La requête permettant de récupérer les informations nécessaires pour un auteur en particulier"
   ]
  },
  {
   "cell_type": "code",
   "execution_count": 3,
   "metadata": {},
   "outputs": [],
   "source": [
    "query_data = \"\"\"\n",
    "    select distinct\n",
    "        ?author \n",
    "        ?doc xsd:date(?issued) as ?issuedAt \n",
    "        ?lab ?labName \n",
    "        replace(str(?country), 'http://fr.dbpedia.org/resource/', '') AS ?country \n",
    "        concat(str(xsd:date(?available)), '') as ?availableAt\n",
    "        concat(str(?nameAgg), '') as ?nameAgg \n",
    "        concat(str(?nameDoc), '') as ?nameDoc\n",
    "        concat(str(?adress), '') as ?adress\n",
    "    where {{\n",
    "        ?doc dcterms:creator ?n;\n",
    "            dcterms:issued ?issued.\n",
    "            optional {{ ?doc dcterms:available ?available }}\n",
    "        ?n hal:person {0}; hal:structure ?lab.\n",
    "        ?lab skos:prefLabel ?labName;\n",
    "            vcard2006:country-name ?country.\n",
    "            optional {{ ?lab org:siteAddress ?adress }}\n",
    "        optional {{ ?authorAgg ore:aggregates {0} optional {{ ?authorAgg foaf:name ?nameAgg }} }}\n",
    "        optional {{ {0} foaf:name ?nameDoc }}\n",
    "        bind( if(bound(?authorAgg), ?authorAgg, {0} ) as ?author )\n",
    "        filter(bound(?nameAgg) or bound(?nameDoc))\n",
    "    }}\n",
    "    limit {1} offset {2}\n",
    "\"\"\"\n",
    "limit = 10000"
   ]
  },
  {
   "cell_type": "markdown",
   "metadata": {},
   "source": [
    "### Exporter les données des auteurs sélectionnés dans un fichier CSV"
   ]
  },
  {
   "cell_type": "code",
   "execution_count": 4,
   "metadata": {},
   "outputs": [],
   "source": [
    "mode = 'w'\n",
    "for row in authors.values.tolist():\n",
    "    authorId = '<'+ row[0] +'>'\n",
    "\n",
    "    offset = 0\n",
    "    result = execute( query_data.format( authorId, limit, offset) ).fillna('')\n",
    "    while len(result):\n",
    "        header = False if mode == 'a' else list(result.columns)\n",
    "        result.sort_values(['author.value', 'issuedAt.value'], axis = 0, ascending = True,\n",
    "                           inplace = True, na_position ='last')\n",
    "        result.to_csv('output/data.csv', sep=',', index=False, header=header, mode=mode)\n",
    "        mode = 'a'\n",
    "        offset += limit\n",
    "        result = execute( query_data.format( authorId, limit, offset) ) # .fillna('0')"
   ]
  },
  {
   "cell_type": "markdown",
   "metadata": {},
   "source": [
    "### Lire le fichier CSV exporté précédemment"
   ]
  },
  {
   "cell_type": "code",
   "execution_count": 5,
   "metadata": {},
   "outputs": [],
   "source": [
    "data = pd.read_csv(\"output/data.csv\").fillna('')\n",
    "# list(data.columns)"
   ]
  },
  {
   "cell_type": "markdown",
   "metadata": {},
   "source": [
    "### Regrouper les données par auteur et par année et exporter le résultat dans un fichier JSON"
   ]
  },
  {
   "cell_type": "code",
   "execution_count": 6,
   "metadata": {
    "scrolled": false
   },
   "outputs": [],
   "source": [
    "byAuthorDict = {}\n",
    "for row in data.values.tolist():\n",
    "    authorURI = row[0]\n",
    "    year, mont, date = row[2].split('-')\n",
    "\n",
    "    if authorURI not in byAuthorDict:\n",
    "        byAuthorDict[ authorURI ] = {}\n",
    "    if year not in byAuthorDict[ authorURI ]:\n",
    "        byAuthorDict[ authorURI ][ year ] = []\n",
    "\n",
    "    byAuthorDict[ authorURI ][ year ].append({\n",
    "        \"name1\": row[7],\n",
    "        \"name2\": row[8],\n",
    "        \"docURI\": row[1],\n",
    "        # \"labURI\": row[3],\n",
    "        \"labName\": row[4],\n",
    "        \"country\": row[5],\n",
    "        \"adress\": row[9],\n",
    "        \"issuedAt\": row[2],\n",
    "        \"availableAt\": row[6],\n",
    "    })\n",
    "\n",
    "byAuthorList = []\n",
    "for authorURI in byAuthorDict:\n",
    "    names = set()\n",
    "    authorData = list()\n",
    "    for year in byAuthorDict[ authorURI ]:\n",
    "        docs = list()\n",
    "        for row in byAuthorDict[ authorURI ][ year ]:\n",
    "            if row['name1']:\n",
    "                names.add(row['name1'])\n",
    "            if row['name2']:\n",
    "                names.add(row['name2'])\n",
    "            docs.append( {k:row[k] for k in [\"docURI\", \n",
    "                                             \"labName\", \"country\", \"adress\"]} )\n",
    "        authorData.append({\n",
    "            \"year\": year,\n",
    "            \"docs\": docs\n",
    "        })\n",
    "\n",
    "    byAuthorList.append({\n",
    "        \"authorURI\": authorURI, # .replace(\"https://data.archives-ouvertes.fr/author/\", \"\"),\n",
    "        \"name\": list(names)[0] if len(names) == 1 else list(names),\n",
    "        \"data\": authorData\n",
    "    })\n",
    "with open('output/finaldata.json', 'w', encoding='utf-8') as f:\n",
    "    json.dump(byAuthorList, f, ensure_ascii=False, indent=2)"
   ]
  }
 ],
 "metadata": {
  "kernelspec": {
   "display_name": "Python 3",
   "language": "python",
   "name": "python3"
  },
  "language_info": {
   "codemirror_mode": {
    "name": "ipython",
    "version": 3
   },
   "file_extension": ".py",
   "mimetype": "text/x-python",
   "name": "python",
   "nbconvert_exporter": "python",
   "pygments_lexer": "ipython3",
   "version": "3.8.3"
  }
 },
 "nbformat": 4,
 "nbformat_minor": 4
}
